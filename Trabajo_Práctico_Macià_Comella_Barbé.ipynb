{
  "nbformat": 4,
  "nbformat_minor": 0,
  "metadata": {
    "colab": {
      "provenance": [],
      "include_colab_link": true
    },
    "kernelspec": {
      "name": "python3",
      "display_name": "Python 3"
    }
  },
  "cells": [
    {
      "cell_type": "markdown",
      "metadata": {
        "id": "view-in-github",
        "colab_type": "text"
      },
      "source": [
        "<a href=\"https://colab.research.google.com/github/Macia-Comella/03MAIR---Algoritmos-de-Optimizacion/blob/main/Trabajo_Pr%C3%A1ctico_Maci%C3%A0_Comella_Barb%C3%A9.ipynb\" target=\"_parent\"><img src=\"https://colab.research.google.com/assets/colab-badge.svg\" alt=\"Open In Colab\"/></a>"
      ]
    },
    {
      "cell_type": "markdown",
      "metadata": {
        "id": "hVbXYX-RfPWh"
      },
      "source": [
        "# Algoritmos de optimización - Trabajo Práctico<br>\n",
        "Nombre y Apellidos: Macià Comella Barbé  <br>\n",
        "Url: https://github.com/Macia-Comella/03MAIR---Algoritmos-de-Optimizacion/blob/main/Trabajo_Pr%C3%A1ctico_Maci%C3%A0_Comella_Barb%C3%A9.ipynb <br>\n",
        "Google Colab: https://colab.research.google.com/drive/1FGZOnWffgCmwZOaOAiDOFlKo6aX0BwOK?usp=sharing <br>\n",
        "Problema:\n",
        ">1. Sesiones de doblaje <br>\n",
        "\n",
        "Descripción del problema:\n",
        "\n",
        "Se precisa coordinar el doblaje de una película. Los actores del doblaje deben coincidir en las tomas en las que sus personajes aparecen juntos en las diferentes tomas. Los actores de doblaje cobran todos la misma cantidad por cada día que deben desplazarse hasta el estudio de grabación independientemente del número de tomas que se graben. No es posible grabar más de 6 tomas por día. El objetivo es planificar las sesiones por día de manera que el gasto por los servicios de los actores de doblaje sea el menor posible. Los datos son:\n",
        "\n",
        "Número de actores: 10  \n",
        "Número de tomas : 30  \n",
        "Actores/Tomas : https://bit.ly/36D8IuK\n",
        "\n",
        "....\n",
        "\n",
        "\n",
        "\n",
        "\n",
        "\n",
        "\n",
        "\n",
        "                                        "
      ]
    },
    {
      "cell_type": "markdown",
      "source": [
        "#Modelo\n",
        "- ¿Como represento el espacio de soluciones?\n",
        "- ¿Cual es la función objetivo?\n",
        "- ¿Como implemento las restricciones?"
      ],
      "metadata": {
        "id": "Sbo9IqQtpaHZ"
      }
    },
    {
      "cell_type": "markdown",
      "source": [
        "### Respuesta\n",
        "\n",
        "**Espacio de soluciones:**  \n",
        "El espacio de soluciones se representa con lista de listas que contiene las sesiones programadas cada día. Cada lista representa un día y este contiene las sesiones de dicho día. El tamaño de las listas deberá limitarse a 6 ya que no se pueden programar más de 6 tomas por día.\n",
        "\n",
        "Asociada a esta lista de programación de tomas se generará una lista de listas con los actores que deben desplazarse al estudio cada día siguiendo la misma lógica (cada lista representa un día y contiene los actores necesarios para tal día)"
      ],
      "metadata": {
        "id": "67p_vszBposu"
      }
    },
    {
      "cell_type": "code",
      "source": [
        "import random\n",
        "import numpy as np"
      ],
      "metadata": {
        "id": "eb28zmNVW3n0"
      },
      "execution_count": 1,
      "outputs": []
    },
    {
      "cell_type": "code",
      "source": [
        "# Carga datos actores\n",
        "planificacion = {'1': [1, 1, 1, 1, 1, 0, 0, 0, 0, 0],\n",
        "                 '2': [0, 0, 1, 1, 1, 0, 0, 0, 0, 0],\n",
        "                 '3': [0, 1, 0, 0, 1, 0, 1, 0, 0, 0],\n",
        "                 '4': [1, 1, 0, 0, 0, 0, 1, 1, 0, 0],\n",
        "                 '5': [0, 1, 0, 1, 0, 0, 0, 1, 0, 0],\n",
        "                 '6': [1, 1, 0, 1, 1, 0, 0, 0, 0, 0],\n",
        "                 '7': [1, 1, 0, 1, 1, 0, 0, 0, 0, 0],\n",
        "                 '8': [1, 1, 0, 0, 0, 1, 0, 0, 0, 0],\n",
        "                 '9': [1, 1, 0, 1, 0, 0, 0, 0, 0, 0],\n",
        "                 '10': [1, 1, 0, 0, 0, 1, 0, 0, 1, 0],\n",
        "                 '11': [1, 1, 1, 0, 1, 0, 0, 1, 0, 0],\n",
        "                 '12': [1, 1, 1, 1, 0, 1, 0, 0, 0, 0],\n",
        "                 '13': [1, 0, 0, 1, 1, 0, 0, 0, 0, 0],\n",
        "                 '14': [1, 0, 1, 0, 0, 1, 0, 0, 0, 0],\n",
        "                 '15': [1, 1, 0, 0, 0, 0, 1, 0, 0, 0],\n",
        "                 '16': [0, 0, 0, 1, 0, 0, 0, 0, 0, 1],\n",
        "                 '17': [1, 0, 1, 0, 0, 0, 0, 0, 0, 0],\n",
        "                 '18': [0, 0, 1, 0, 0, 1, 0, 0, 0, 0],\n",
        "                 '19': [1, 0, 1, 0, 0, 0, 0, 0, 0, 0],\n",
        "                 '20': [1, 0, 1, 1, 1, 0, 0, 0, 0, 0],\n",
        "                 '21': [0, 0, 0, 0, 0, 1, 0, 1, 0, 0],\n",
        "                 '22': [1, 1, 1, 1, 0, 0, 0, 0, 0, 0],\n",
        "                 '23': [1, 0, 1, 0, 0, 0, 0, 0, 0, 0],\n",
        "                 '24': [0, 0, 1, 0, 0, 1, 0, 0, 0, 0],\n",
        "                 '25': [1, 1, 0, 1, 0, 0, 0, 0, 0, 1],\n",
        "                 '26': [1, 0, 1, 0, 1, 0, 0, 0, 1, 0],\n",
        "                 '27': [0, 0, 0, 1, 1, 0, 0, 0, 0, 0],\n",
        "                 '28': [1, 0, 0, 1, 0, 0, 0, 0, 0, 0],\n",
        "                 '29': [1, 0, 0, 0, 1, 1, 0, 0, 0, 0],\n",
        "                 '30': [1, 0, 0, 1, 0, 0, 0, 0, 0, 0]}\n",
        "\n",
        "for k in planificacion:\n",
        "  lista = []\n",
        "  for numero, actor in enumerate(planificacion[k]):\n",
        "    if actor == 1:\n",
        "      lista.append(numero+1)\n",
        "  planificacion[k] = lista"
      ],
      "metadata": {
        "colab": {
          "base_uri": "https://localhost:8080/"
        },
        "id": "jN5D01n_bBJ6",
        "outputId": "454406e0-3f46-4949-e4fc-4f227f5483bd"
      },
      "execution_count": 101,
      "outputs": [
        {
          "output_type": "stream",
          "name": "stdout",
          "text": [
            "{'1': [1, 2, 3, 4, 5], '2': [3, 4, 5], '3': [2, 5, 7], '4': [1, 2, 7, 8], '5': [2, 4, 8], '6': [1, 2, 4, 5], '7': [1, 2, 4, 5], '8': [1, 2, 6], '9': [1, 2, 4], '10': [1, 2, 6, 9], '11': [1, 2, 3, 5, 8], '12': [1, 2, 3, 4, 6], '13': [1, 4, 5], '14': [1, 3, 6], '15': [1, 2, 7], '16': [4, 10], '17': [1, 3], '18': [3, 6], '19': [1, 3], '20': [1, 3, 4, 5], '21': [6, 8], '22': [1, 2, 3, 4], '23': [1, 3], '24': [3, 6], '25': [1, 2, 4, 10], '26': [1, 3, 5, 9], '27': [4, 5], '28': [1, 4], '29': [1, 5, 6], '30': [1, 4]}\n"
          ]
        }
      ]
    },
    {
      "cell_type": "code",
      "metadata": {
        "id": "AiskKkzZfy4e"
      },
      "source": [
        "# Espacio de soluciones\n",
        "\n",
        "def genera_programacion_aleatoria():\n",
        "  programacion = [[]]\n",
        "  tomas_a_programar = list(range(1,31))\n",
        "\n",
        "  while len(tomas_a_programar) > 0:\n",
        "    for dia in programacion:\n",
        "      programado = False\n",
        "      if len(dia) < 6:\n",
        "        toma_programada = random.choice(tomas_a_programar)\n",
        "        dia.append(toma_programada)\n",
        "        tomas_a_programar.remove(toma_programada)\n",
        "        programado = True\n",
        "\n",
        "    if not programado:\n",
        "      programacion.append([])\n",
        "      programado = False\n",
        "\n",
        "  return programacion"
      ],
      "execution_count": 64,
      "outputs": []
    },
    {
      "cell_type": "code",
      "source": [
        "def programa_actores(programacion, plan):\n",
        "  programacion_actores = []\n",
        "  for dia, tomas_dia in enumerate(programacion):\n",
        "    programacion_actores.append([])\n",
        "    for toma in tomas_dia:\n",
        "      for tomas_plan in plan[str(toma)]:\n",
        "        programacion_actores[dia].append(tomas_plan)\n",
        "\n",
        "  for dia in range(len(programacion_actores)):\n",
        "    programacion_actores[dia] = set(programacion_actores[dia])\n",
        "\n",
        "  return programacion_actores\n"
      ],
      "metadata": {
        "id": "5-BBK-M4X4wG"
      },
      "execution_count": 119,
      "outputs": []
    },
    {
      "cell_type": "code",
      "source": [
        "programacion = genera_programacion_aleatoria()\n",
        "print(programacion)\n",
        "print(programa_actores(programacion, planificacion))"
      ],
      "metadata": {
        "colab": {
          "base_uri": "https://localhost:8080/"
        },
        "id": "O9muvI8ZZmLe",
        "outputId": "97760c10-46f9-4c97-efc8-73d959c34b10"
      },
      "execution_count": 120,
      "outputs": [
        {
          "output_type": "stream",
          "name": "stdout",
          "text": [
            "[[19, 20, 26, 8, 9, 18], [24, 17, 22, 1, 28, 12], [5, 30, 13, 6, 3, 16], [29, 7, 27, 4, 14, 11], [25, 15, 10, 2, 21, 23]]\n",
            "[{1, 2, 3, 4, 5, 6, 9}, {1, 2, 3, 4, 5, 6}, {1, 2, 4, 5, 7, 8, 10}, {1, 2, 3, 4, 5, 6, 7, 8}, {1, 2, 3, 4, 5, 6, 7, 8, 9, 10}]\n"
          ]
        }
      ]
    },
    {
      "cell_type": "markdown",
      "source": [
        "#Análisis\n",
        "- ¿Que complejidad tiene el problema?. Orden de complejidad y Contabilizar el espacio de soluciones"
      ],
      "metadata": {
        "id": "HZz52wOppp-U"
      }
    },
    {
      "cell_type": "code",
      "source": [
        "#Respuesta\n"
      ],
      "metadata": {
        "id": "CZ-5BmpspttV"
      },
      "execution_count": null,
      "outputs": []
    },
    {
      "cell_type": "markdown",
      "source": [
        "#Diseño\n",
        "- ¿Que técnica utilizo? ¿Por qué?"
      ],
      "metadata": {
        "id": "ixEJUwH_pv7M"
      }
    },
    {
      "cell_type": "code",
      "source": [
        "#Respuesta"
      ],
      "metadata": {
        "id": "ZdKPjB9gp2BA"
      },
      "execution_count": null,
      "outputs": []
    }
  ]
}