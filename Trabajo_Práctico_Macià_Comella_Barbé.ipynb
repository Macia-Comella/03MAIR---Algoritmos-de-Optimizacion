{
  "nbformat": 4,
  "nbformat_minor": 0,
  "metadata": {
    "colab": {
      "provenance": [],
      "include_colab_link": true
    },
    "kernelspec": {
      "name": "python3",
      "display_name": "Python 3"
    }
  },
  "cells": [
    {
      "cell_type": "markdown",
      "metadata": {
        "id": "view-in-github",
        "colab_type": "text"
      },
      "source": [
        "<a href=\"https://colab.research.google.com/github/Macia-Comella/03MAIR---Algoritmos-de-Optimizacion/blob/main/Trabajo_Pr%C3%A1ctico_Maci%C3%A0_Comella_Barb%C3%A9.ipynb\" target=\"_parent\"><img src=\"https://colab.research.google.com/assets/colab-badge.svg\" alt=\"Open In Colab\"/></a>"
      ]
    },
    {
      "cell_type": "markdown",
      "metadata": {
        "id": "hVbXYX-RfPWh"
      },
      "source": [
        "# Algoritmos de optimización - Trabajo Práctico<br>\n",
        "Nombre y Apellidos: Macià Comella Barbé  <br>\n",
        "Url: https://github.com/Macia-Comella/03MAIR---Algoritmos-de-Optimizacion/blob/main/Trabajo_Pr%C3%A1ctico_Maci%C3%A0_Comella_Barb%C3%A9.ipynb <br>\n",
        "Google Colab: https://colab.research.google.com/drive/1FGZOnWffgCmwZOaOAiDOFlKo6aX0BwOK?usp=sharing <br>\n",
        "Problema:\n",
        ">1. Sesiones de doblaje <br>\n",
        "\n",
        "Descripción del problema:\n",
        "\n",
        "Se precisa coordinar el doblaje de una película. Los actores del doblaje deben coincidir en las tomas en las que sus personajes aparecen juntos en las diferentes tomas. Los actores de doblaje cobran todos la misma cantidad por cada día que deben desplazarse hasta el estudio de grabación independientemente del número de tomas que se graben. No es posible grabar más de 6 tomas por día. El objetivo es planificar las sesiones por día de manera que el gasto por los servicios de los actores de doblaje sea el menor posible. Los datos son:\n",
        "\n",
        "Número de actores: 10  \n",
        "Número de tomas : 30  \n",
        "Actores/Tomas : https://bit.ly/36D8IuK\n",
        "\n",
        "....\n",
        "\n",
        "\n",
        "\n",
        "\n",
        "\n",
        "\n",
        "\n",
        "                                        "
      ]
    },
    {
      "cell_type": "markdown",
      "source": [
        "#Modelo\n",
        "- ¿Como represento el espacio de soluciones?\n",
        "- ¿Cual es la función objetivo?\n",
        "- ¿Como implemento las restricciones?"
      ],
      "metadata": {
        "id": "Sbo9IqQtpaHZ"
      }
    },
    {
      "cell_type": "markdown",
      "source": [
        "### Respuesta\n",
        "\n",
        "**Espacio de soluciones:**  \n",
        "Representamos el espacio de soluciones con una lista de listas que contiene las sesiones programadas cada día. Cada lista representa un día y éste contiene las sesiones de dicho día. El tamaño de las listas deberá limitarse a 6 ya que no se pueden programar más de 6 tomas por día.\n",
        "\n",
        "Asociada a esta lista de programación de tomas generamos una lista de listas con los actores que deben desplazarse al estudio cada día siguiendo la misma lógica (cada lista representa un día y contiene los actores necesarios para tal día)\n",
        "\n",
        "Trabajamos con soluciones compactas intentando encabir el máximo de tomas en un día. Como el límite es 6 tomas/día y hay 30 tomas a programar se pueden compactar en 5 días. Se toma este enfoque ya que, en general, repartir las tomas a lo largo de más días incrementa la probabilidad de que actores deban desplazarse más días al estudio. Visto desde otro punto de vista, una vez hemos programado una toma en un día, los actores necesarios para esa toma ya están desplazados al estudio, por lo que todas las tomas adicionales que puedan grabar no añaden coste adicional."
      ],
      "metadata": {
        "id": "67p_vszBposu"
      }
    },
    {
      "cell_type": "code",
      "source": [
        "import random\n",
        "import math\n",
        "from copy import deepcopy"
      ],
      "metadata": {
        "id": "eb28zmNVW3n0"
      },
      "execution_count": 1,
      "outputs": []
    },
    {
      "cell_type": "code",
      "source": [
        "# Carga datos actores\n",
        "planificacion = {'1': [1, 1, 1, 1, 1, 0, 0, 0, 0, 0],\n",
        "                 '2': [0, 0, 1, 1, 1, 0, 0, 0, 0, 0],\n",
        "                 '3': [0, 1, 0, 0, 1, 0, 1, 0, 0, 0],\n",
        "                 '4': [1, 1, 0, 0, 0, 0, 1, 1, 0, 0],\n",
        "                 '5': [0, 1, 0, 1, 0, 0, 0, 1, 0, 0],\n",
        "                 '6': [1, 1, 0, 1, 1, 0, 0, 0, 0, 0],\n",
        "                 '7': [1, 1, 0, 1, 1, 0, 0, 0, 0, 0],\n",
        "                 '8': [1, 1, 0, 0, 0, 1, 0, 0, 0, 0],\n",
        "                 '9': [1, 1, 0, 1, 0, 0, 0, 0, 0, 0],\n",
        "                 '10': [1, 1, 0, 0, 0, 1, 0, 0, 1, 0],\n",
        "                 '11': [1, 1, 1, 0, 1, 0, 0, 1, 0, 0],\n",
        "                 '12': [1, 1, 1, 1, 0, 1, 0, 0, 0, 0],\n",
        "                 '13': [1, 0, 0, 1, 1, 0, 0, 0, 0, 0],\n",
        "                 '14': [1, 0, 1, 0, 0, 1, 0, 0, 0, 0],\n",
        "                 '15': [1, 1, 0, 0, 0, 0, 1, 0, 0, 0],\n",
        "                 '16': [0, 0, 0, 1, 0, 0, 0, 0, 0, 1],\n",
        "                 '17': [1, 0, 1, 0, 0, 0, 0, 0, 0, 0],\n",
        "                 '18': [0, 0, 1, 0, 0, 1, 0, 0, 0, 0],\n",
        "                 '19': [1, 0, 1, 0, 0, 0, 0, 0, 0, 0],\n",
        "                 '20': [1, 0, 1, 1, 1, 0, 0, 0, 0, 0],\n",
        "                 '21': [0, 0, 0, 0, 0, 1, 0, 1, 0, 0],\n",
        "                 '22': [1, 1, 1, 1, 0, 0, 0, 0, 0, 0],\n",
        "                 '23': [1, 0, 1, 0, 0, 0, 0, 0, 0, 0],\n",
        "                 '24': [0, 0, 1, 0, 0, 1, 0, 0, 0, 0],\n",
        "                 '25': [1, 1, 0, 1, 0, 0, 0, 0, 0, 1],\n",
        "                 '26': [1, 0, 1, 0, 1, 0, 0, 0, 1, 0],\n",
        "                 '27': [0, 0, 0, 1, 1, 0, 0, 0, 0, 0],\n",
        "                 '28': [1, 0, 0, 1, 0, 0, 0, 0, 0, 0],\n",
        "                 '29': [1, 0, 0, 0, 1, 1, 0, 0, 0, 0],\n",
        "                 '30': [1, 0, 0, 1, 0, 0, 0, 0, 0, 0]}\n",
        "\n",
        "# Transformación del formato de los actores para tener el identificador del actor en lugar de una tabla binaria\n",
        "for k in planificacion:\n",
        "  lista = []\n",
        "  for numero, actor in enumerate(planificacion[k]):\n",
        "    if actor == 1:\n",
        "      lista.append(numero+1)\n",
        "  planificacion[k] = lista\n",
        "\n",
        "print(planificacion)"
      ],
      "metadata": {
        "id": "jN5D01n_bBJ6",
        "colab": {
          "base_uri": "https://localhost:8080/"
        },
        "outputId": "3ba5d9bb-0ccd-4942-b4a1-fee39b1694c9"
      },
      "execution_count": 2,
      "outputs": [
        {
          "output_type": "stream",
          "name": "stdout",
          "text": [
            "{'1': [1, 2, 3, 4, 5], '2': [3, 4, 5], '3': [2, 5, 7], '4': [1, 2, 7, 8], '5': [2, 4, 8], '6': [1, 2, 4, 5], '7': [1, 2, 4, 5], '8': [1, 2, 6], '9': [1, 2, 4], '10': [1, 2, 6, 9], '11': [1, 2, 3, 5, 8], '12': [1, 2, 3, 4, 6], '13': [1, 4, 5], '14': [1, 3, 6], '15': [1, 2, 7], '16': [4, 10], '17': [1, 3], '18': [3, 6], '19': [1, 3], '20': [1, 3, 4, 5], '21': [6, 8], '22': [1, 2, 3, 4], '23': [1, 3], '24': [3, 6], '25': [1, 2, 4, 10], '26': [1, 3, 5, 9], '27': [4, 5], '28': [1, 4], '29': [1, 5, 6], '30': [1, 4]}\n"
          ]
        }
      ]
    },
    {
      "cell_type": "code",
      "metadata": {
        "id": "AiskKkzZfy4e"
      },
      "source": [
        "# Espacio de soluciones\n",
        "\n",
        "def genera_programacion_aleatoria():\n",
        "  programacion = [[]]\n",
        "  tomas_a_programar = list(range(1,31))\n",
        "\n",
        "  while len(tomas_a_programar) > 0:\n",
        "    for dia in programacion:\n",
        "      programado = False\n",
        "      if len(dia) < 6:\n",
        "        toma_programada = random.choice(tomas_a_programar)\n",
        "        dia.append(toma_programada)\n",
        "        tomas_a_programar.remove(toma_programada)\n",
        "        programado = True\n",
        "\n",
        "    if not programado:\n",
        "      programacion.append([])\n",
        "\n",
        "  return programacion"
      ],
      "execution_count": 3,
      "outputs": []
    },
    {
      "cell_type": "code",
      "source": [
        "def programa_actores(programacion, plan):\n",
        "  programacion_actores = []\n",
        "  for dia, tomas_dia in enumerate(programacion):\n",
        "    programacion_actores.append([])\n",
        "    for toma in tomas_dia:\n",
        "      for tomas_plan in plan[str(toma)]:\n",
        "        programacion_actores[dia].append(tomas_plan)\n",
        "\n",
        "  for dia in range(len(programacion_actores)):\n",
        "    programacion_actores[dia] = set(programacion_actores[dia])\n",
        "\n",
        "  return programacion_actores\n"
      ],
      "metadata": {
        "id": "5-BBK-M4X4wG"
      },
      "execution_count": 4,
      "outputs": []
    },
    {
      "cell_type": "code",
      "source": [
        "programacion = genera_programacion_aleatoria()\n",
        "\n",
        "prog_actores = programa_actores(programacion, planificacion)\n",
        "\n",
        "dia = 1\n",
        "for tomas, actores in zip(programacion, prog_actores):\n",
        "  print(f\"El día {dia} se programan las tomas {tomas}, por lo tanto se necesitan los actores {actores}\")\n",
        "  dia += 1"
      ],
      "metadata": {
        "colab": {
          "base_uri": "https://localhost:8080/"
        },
        "id": "O9muvI8ZZmLe",
        "outputId": "1ac2698c-d28b-48e6-f765-5316c0ad1085"
      },
      "execution_count": 5,
      "outputs": [
        {
          "output_type": "stream",
          "name": "stdout",
          "text": [
            "El día 1 se programan las tomas [10, 11, 16, 14, 20, 6], por lo tanto se necesitan los actores {1, 2, 3, 4, 5, 6, 8, 9, 10}\n",
            "El día 2 se programan las tomas [1, 21, 5, 26, 8, 7], por lo tanto se necesitan los actores {1, 2, 3, 4, 5, 6, 8, 9}\n",
            "El día 3 se programan las tomas [27, 23, 15, 12, 9, 13], por lo tanto se necesitan los actores {1, 2, 3, 4, 5, 6, 7}\n",
            "El día 4 se programan las tomas [2, 4, 22, 24, 25, 18], por lo tanto se necesitan los actores {1, 2, 3, 4, 5, 6, 7, 8, 10}\n",
            "El día 5 se programan las tomas [19, 28, 30, 3, 29, 17], por lo tanto se necesitan los actores {1, 2, 3, 4, 5, 6, 7}\n"
          ]
        }
      ]
    },
    {
      "cell_type": "markdown",
      "source": [
        "**Función objetivo:** la función objetivo a minimizar es el coste del traslado de los actores al estudio de grabación. Definimos el coste de convocar a un actor al estudio de gravación con valor 1 por cada día que un actor deba desplazarse. Con esta definición el cálculo del coste a minimizar es el número de actores convocados cada día.  \n",
        "\n",
        "A continuación definimos la función coste y calculamos el coste de la solución aleatoria generada en el apartado anterior"
      ],
      "metadata": {
        "id": "Ts4aO8ERJRb2"
      }
    },
    {
      "cell_type": "code",
      "source": [
        "print(prog_actores)"
      ],
      "metadata": {
        "colab": {
          "base_uri": "https://localhost:8080/"
        },
        "id": "sOjM4UybKDhV",
        "outputId": "94e4442d-6adb-4957-a2d7-19e7df4da056"
      },
      "execution_count": null,
      "outputs": [
        {
          "output_type": "stream",
          "name": "stdout",
          "text": [
            "[{1, 2, 3, 4, 5, 6, 8, 10}, {1, 2, 3, 4, 5, 6, 8}, {1, 2, 3, 4, 5, 6, 7, 8, 10}, {1, 2, 3, 4, 5, 6, 9}, {1, 2, 3, 4, 5, 6, 7}]\n"
          ]
        }
      ]
    },
    {
      "cell_type": "code",
      "source": [
        "def coste(prog_actores):\n",
        "  coste = 0\n",
        "  for dia in prog_actores:\n",
        "    coste += len(dia)\n",
        "\n",
        "  return coste"
      ],
      "metadata": {
        "id": "7TrqLRc5J7oX"
      },
      "execution_count": 6,
      "outputs": []
    },
    {
      "cell_type": "code",
      "source": [
        "coste_prog_aleatoria = coste(prog_actores)\n",
        "print(f\"El coste de la programación aleatoria es de {coste_prog_aleatoria} unidades\")"
      ],
      "metadata": {
        "colab": {
          "base_uri": "https://localhost:8080/"
        },
        "id": "ZQOv9q4DKRGA",
        "outputId": "70f800c2-ad96-4c7c-d45d-691e57fc1bb9"
      },
      "execution_count": 7,
      "outputs": [
        {
          "output_type": "stream",
          "name": "stdout",
          "text": [
            "El coste de la programación aleatoria es de 40 unidades\n"
          ]
        }
      ]
    },
    {
      "cell_type": "markdown",
      "source": [
        "**Restricciones:** de la forma como hemos modelizado el espacio de soluciones el enunciado del problema nos impone dos restricciones:\n",
        "1. No pueden programarse más de 6 tomas cada día y\n",
        "2. Deben programarse las 30 tomas.\n",
        "\n",
        "La primera restricción la implementamos en todas las funciones que generen soluciones o modificaciones de las soluciones, la longitud de la lista de soluciones programadas por día no puede ser superior a 6.  \n",
        "\n",
        "La segunda restricción la implementamos asegurando que las soluciones incluyen el total de las 30 tomas a programar.\n",
        "\n",
        "Adionalmente, el enunciado nos proporciona una tabla que condiciona los actores que deben desplazarse al estudio cada día en función de las tomas que están programadas ese día. Esta condición en realidad no impone ninguna restricción, sinó que influirá en el valor de la función objetivo."
      ],
      "metadata": {
        "id": "7XzsnOKvKpfN"
      }
    },
    {
      "cell_type": "markdown",
      "source": [
        "#Análisis\n",
        "- ¿Que complejidad tiene el problema?. Orden de complejidad y Contabilizar el espacio de soluciones"
      ],
      "metadata": {
        "id": "HZz52wOppp-U"
      }
    },
    {
      "cell_type": "markdown",
      "source": [
        "### Respuesta\n",
        "El espacio de soluciones completo incluye todas las posibles combinaciones de tomas programadas por día, teniendo en cuenta que se programan 6 tomas por día para un total de 5 días.  \n",
        "\n",
        "Para el cómputo del espacio de soluciones consideramos que si las tomas se programan en diferente orden dentro de un mismo día se consideran soluciones diferentes, aunque tengan el mismo valor de coste. Lo mismo ocurre si intercambiamos el orden de días. Siguiendo esta lógica el espacio de soluciones se contabiliza del siguiente modo:\n",
        "\n",
        "1. El 1r día hay 30 tomas a programar, de las cuales se programan 6. No se puede repetir pero el orden de las tomas importa, por lo tanto estamos ante un caso de variación sin repetición con fórmula: 30!/(30-6)! = 30!/24! = 30 * 29 * 28 * 27 * 26 * 25\n",
        "2. El 2o día quedan 24 tomas a programar. Aplicamos la misma función actualizada para las tomas restantes: 24!/(24-6)! = 24!/18! = 24 * 23 * 22 * 21 * 20 * 19\n",
        "\n",
        "Siguiendo este proceso hasta programar las 30 tomas el cómputo total de soluciones es:  \n",
        "30!/24! * 24!/18! * 18!/12! * 12!/6! * 6! = 30!\n",
        "\n",
        "Generalizando la solución, con las mismas restricciones, el orden de complejidad es factorial, concretamente O(n) = n!"
      ],
      "metadata": {
        "id": "bXufmtjQL6sy"
      }
    },
    {
      "cell_type": "code",
      "source": [
        "# A continuación se calcula el valor concreto de soluciones para n = 30 -> factorial de 30\n",
        "math.factorial(30)"
      ],
      "metadata": {
        "colab": {
          "base_uri": "https://localhost:8080/"
        },
        "id": "BXz02NIzeAnb",
        "outputId": "100dc909-93b7-472d-c8dc-da260b982aab"
      },
      "execution_count": null,
      "outputs": [
        {
          "output_type": "execute_result",
          "data": {
            "text/plain": [
              "265252859812191058636308480000000"
            ]
          },
          "metadata": {},
          "execution_count": 17
        }
      ]
    },
    {
      "cell_type": "markdown",
      "source": [
        "#Diseño\n",
        "- ¿Que técnica utilizo? ¿Por qué?"
      ],
      "metadata": {
        "id": "ixEJUwH_pv7M"
      }
    },
    {
      "cell_type": "markdown",
      "source": [
        "### Respuesta\n",
        "\n",
        "En una primera aproximación utilizaremos una combinación de búsqueda local y multiarranque para mejorar una solución aleatoria inicial. El multi-arranque nos aporta diversificación al empezar en varios puntos diferentes, mientras que la búsqueda local nos aporta intensificación en estos puntos iniciales aleatorios. Como la búsqueda local encuentra soluciones bastante rápido  podemos hacer bastantes arranques para empezar en sitios diferente.  \n",
        "\n",
        "En una revisión del código, añadimos una componente de la búsqueda tabú: como la búsqueda local siempre encuentra la misma solución dada una solución inicial, restringimos las soluciones aleatorias iniciales a que no se repitan con las soluciones generadas anteriormente. De esta forma aseguramos que la generación aleatoria no nos lleva a invertir recursos en caminos ya explorados"
      ],
      "metadata": {
        "id": "ULgA7-DaA3DY"
      }
    },
    {
      "cell_type": "code",
      "source": [
        "# Propuesta 1: combinar multi-arranque con búsqueda local\n",
        "def genera_vecinos_2opt(programacion, plan):\n",
        "  mejor_solucion = programacion\n",
        "  prog_actores = programa_actores(programacion, plan)\n",
        "  mejor_coste = coste(prog_actores) # Usamos la programación actual como valor a comparar. Si la generada no es mejor que la actual no queremos cambiar\n",
        "\n",
        "  vecina = deepcopy(programacion)\n",
        "  for dia in range(len(programacion)-1):\n",
        "    for toma in range(len(programacion[dia])):\n",
        "      for toma_dia_cambio in range(len(programacion[dia])):\n",
        "\n",
        "        vecina[dia][toma] = programacion[dia+1][toma_dia_cambio]\n",
        "        vecina[dia+1][toma_dia_cambio] = programacion[dia][toma]\n",
        "\n",
        "        prog_actores_vec = programa_actores(vecina, plan)\n",
        "        coste_vec = coste(prog_actores_vec)\n",
        "\n",
        "        if coste_vec < mejor_coste:\n",
        "          mejor_solucion = vecina\n",
        "          mejor_coste = coste_vec\n",
        "\n",
        "        vecina = deepcopy(programacion)\n",
        "\n",
        "  return mejor_solucion\n",
        "\n",
        "def multiarranque_busq_local(plan, intentos):\n",
        "  mejor_sol_global = []\n",
        "  mejor_coste_global = float('inf')\n",
        "  sol_ya_intentadas = []\n",
        "\n",
        "  for _ in range(intentos):\n",
        "    parada = False\n",
        "\n",
        "    sol_propuesta = genera_programacion_aleatoria()\n",
        "\n",
        "    while sol_propuesta in sol_ya_intentadas:\n",
        "      sol_propuesta = genera_programacion_aleatoria()\n",
        "\n",
        "    mejor_sol_local = sol_propuesta\n",
        "    mejor_coste_local = float('inf')\n",
        "    sol_ya_intentadas.append(sol_propuesta)\n",
        "\n",
        "    while not parada:\n",
        "      sol_busq_local = genera_vecinos_2opt(mejor_sol_local, plan)\n",
        "      prog_actores_busq_local = programa_actores(sol_busq_local, plan)\n",
        "      coste_sol_busq_local = coste(prog_actores_busq_local)\n",
        "\n",
        "      if coste_sol_busq_local < mejor_coste_local:\n",
        "        mejor_sol_local = sol_busq_local\n",
        "        mejor_coste_local = coste_sol_busq_local\n",
        "\n",
        "      else:\n",
        "        parada = True\n",
        "\n",
        "    if mejor_coste_local < mejor_coste_global:\n",
        "      mejor_sol_global = mejor_sol_local\n",
        "      mejor_coste_global = mejor_coste_local\n",
        "\n",
        "  return mejor_sol_global"
      ],
      "metadata": {
        "id": "ZdKPjB9gp2BA"
      },
      "execution_count": 61,
      "outputs": []
    },
    {
      "cell_type": "code",
      "source": [
        "print(programacion)\n",
        "# print(coste_prog_aleatoria)\n",
        "\n",
        "sol_busq_local = genera_vecinos_2opt(programacion, planificacion)\n",
        "print(sol_busq_local)"
      ],
      "metadata": {
        "colab": {
          "base_uri": "https://localhost:8080/"
        },
        "id": "-yW-SApBDLmy",
        "outputId": "96aadd37-7a07-43c0-8741-7f286c75b558"
      },
      "execution_count": 56,
      "outputs": [
        {
          "output_type": "stream",
          "name": "stdout",
          "text": [
            "[[10, 11, 16, 14, 20, 6], [1, 21, 5, 26, 8, 7], [27, 23, 15, 12, 9, 13], [2, 4, 22, 24, 25, 18], [19, 28, 30, 3, 29, 17]]\n",
            "[[10, 26, 16, 14, 20, 6], [1, 21, 5, 11, 8, 7], [27, 23, 15, 12, 9, 13], [2, 4, 22, 24, 25, 18], [19, 28, 30, 3, 29, 17]]\n"
          ]
        }
      ]
    },
    {
      "cell_type": "code",
      "source": [
        "print(f\"Programación aleatoria: {programacion}\")\n",
        "print(f\"Coste programación aleatoria: {coste_prog_aleatoria}\")\n",
        "\n",
        "sol_multi_busq_local = multiarranque_busq_local(planificacion, intentos=500)\n",
        "print(sol_multi_busq_local)\n",
        "\n",
        "prog_actores_multi_busq_local = programa_actores(sol_multi_busq_local, planificacion)\n",
        "coste_multi_busq_local = coste(prog_actores_multi_busq_local)\n",
        "\n",
        "print(coste_multi_busq_local)\n",
        "\n",
        "# Habiendo lanzado varias ejecuciones, con 500 intentos vemos que la mejor solución a\n",
        "# la que podemos llegar con esta heurística está en el entorno de 29 unidades de coste"
      ],
      "metadata": {
        "colab": {
          "base_uri": "https://localhost:8080/"
        },
        "id": "jR_FkZ3FkGAB",
        "outputId": "d014ce1b-cfce-4647-e35b-d86a70f3a1a7"
      },
      "execution_count": 64,
      "outputs": [
        {
          "output_type": "stream",
          "name": "stdout",
          "text": [
            "Programación aleatoria: [[10, 11, 16, 14, 20, 6], [1, 21, 5, 26, 8, 7], [27, 23, 15, 12, 9, 13], [2, 4, 22, 24, 25, 18], [19, 28, 30, 3, 29, 17]]\n",
            "Coste programación aleatoria: 40\n",
            "[[26, 10, 1, 29, 22, 12], [27, 28, 7, 9, 30, 16], [24, 23, 14, 19, 18, 17], [15, 5, 3, 6, 4, 25], [20, 8, 13, 21, 2, 11]]\n",
            "29\n"
          ]
        }
      ]
    },
    {
      "cell_type": "code",
      "source": [
        "# Como sabemos que no podemos repetir caminos ya explorados y el tiempo de ejecucion\n",
        "# con el hardware de Colab no es grande lanzamos una ejecución con 2000 intentos para\n",
        "# obtener una solución bastante buena con esta heurística\n",
        "\n",
        "sol_multi_busq_local = multiarranque_busq_local(planificacion, intentos=2000)\n",
        "print(sol_multi_busq_local)\n",
        "\n",
        "prog_actores_multi_busq_local = programa_actores(sol_multi_busq_local, planificacion)\n",
        "coste_multi_busq_local = coste(prog_actores_multi_busq_local)\n",
        "\n",
        "print(coste_multi_busq_local)\n",
        "\n",
        "# El tiempo de ejecución ha sido de 1 minuto"
      ],
      "metadata": {
        "colab": {
          "base_uri": "https://localhost:8080/"
        },
        "id": "B2gj-Y88Gj9R",
        "outputId": "6b99f333-d2a1-496f-8a69-05c57993ba12"
      },
      "execution_count": 66,
      "outputs": [
        {
          "output_type": "stream",
          "name": "stdout",
          "text": [
            "[[10, 6, 8, 12, 9, 26], [1, 7, 16, 20, 2, 25], [23, 24, 18, 19, 14, 17], [27, 29, 28, 13, 30, 21], [5, 22, 15, 11, 3, 4]]\n",
            "28\n"
          ]
        }
      ]
    },
    {
      "cell_type": "code",
      "source": [],
      "metadata": {
        "id": "MlKoKXw1HMoo"
      },
      "execution_count": null,
      "outputs": []
    }
  ]
}