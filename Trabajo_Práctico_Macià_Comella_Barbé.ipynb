{
  "nbformat": 4,
  "nbformat_minor": 0,
  "metadata": {
    "colab": {
      "provenance": [],
      "include_colab_link": true
    },
    "kernelspec": {
      "name": "python3",
      "display_name": "Python 3"
    }
  },
  "cells": [
    {
      "cell_type": "markdown",
      "metadata": {
        "id": "view-in-github",
        "colab_type": "text"
      },
      "source": [
        "<a href=\"https://colab.research.google.com/github/Macia-Comella/03MAIR---Algoritmos-de-Optimizacion/blob/main/Trabajo_Pr%C3%A1ctico_Maci%C3%A0_Comella_Barb%C3%A9.ipynb\" target=\"_parent\"><img src=\"https://colab.research.google.com/assets/colab-badge.svg\" alt=\"Open In Colab\"/></a>"
      ]
    },
    {
      "cell_type": "markdown",
      "metadata": {
        "id": "hVbXYX-RfPWh"
      },
      "source": [
        "# Algoritmos de optimización - Trabajo Práctico<br>\n",
        "Nombre y Apellidos: Macià Comella Barbé  <br>\n",
        "Url: https://github.com/Macia-Comella/03MAIR---Algoritmos-de-Optimizacion/blob/main/Trabajo_Pr%C3%A1ctico_Maci%C3%A0_Comella_Barb%C3%A9.ipynb <br>\n",
        "Google Colab: https://colab.research.google.com/drive/1FGZOnWffgCmwZOaOAiDOFlKo6aX0BwOK?usp=sharing <br>\n",
        "Problema:\n",
        ">1. Sesiones de doblaje <br>\n",
        "\n",
        "Descripción del problema:\n",
        "\n",
        "Se precisa coordinar el doblaje de una película. Los actores del doblaje deben coincidir en las tomas en las que sus personajes aparecen juntos en las diferentes tomas. Los actores de doblaje cobran todos la misma cantidad por cada día que deben desplazarse hasta el estudio de grabación independientemente del número de tomas que se graben. No es posible grabar más de 6 tomas por día. El objetivo es planificar las sesiones por día de manera que el gasto por los servicios de los actores de doblaje sea el menor posible. Los datos son:\n",
        "\n",
        "Número de actores: 10  \n",
        "Número de tomas : 30  \n",
        "Actores/Tomas : https://bit.ly/36D8IuK\n",
        "\n",
        "....\n",
        "\n",
        "\n",
        "\n",
        "\n",
        "\n",
        "\n",
        "\n",
        "                                        "
      ]
    },
    {
      "cell_type": "markdown",
      "source": [
        "#Modelo\n",
        "- ¿Como represento el espacio de soluciones?\n",
        "- ¿Cual es la función objetivo?\n",
        "- ¿Como implemento las restricciones?"
      ],
      "metadata": {
        "id": "Sbo9IqQtpaHZ"
      }
    },
    {
      "cell_type": "markdown",
      "source": [
        "### Respuesta\n",
        "\n",
        "**Espacio de soluciones:**  \n",
        "Representamos el espacio de soluciones con una lista de listas que contiene las sesiones programadas cada día. Cada lista representa un día y éste contiene las sesiones de dicho día. El tamaño de las listas deberá limitarse a 6 ya que no se pueden programar más de 6 tomas por día.\n",
        "\n",
        "Asociada a esta lista de programación de tomas generamos una lista de listas con los actores que deben desplazarse al estudio cada día siguiendo la misma lógica (cada lista representa un día y contiene los actores necesarios para tal día)\n",
        "\n",
        "Trabajamos con soluciones compactas intentando encabir el máximo de tomas en un día. Como el límite es 6 tomas/día y hay 30 tomas a programar se pueden compactar en 5 días. Se toma este enfoque ya que, en general, repartir las tomas a lo largo de más días incrementa la probabilidad de que actores deban desplazarse más días al estudio. Visto desde otro punto de vista, una vez hemos programado una toma en un día, los actores necesarios para esa toma ya están desplazados al estudio, por lo que todas las tomas adicionales que puedan grabar no añaden coste adicional."
      ],
      "metadata": {
        "id": "67p_vszBposu"
      }
    },
    {
      "cell_type": "code",
      "source": [
        "import random\n",
        "import math\n",
        "from copy import deepcopy"
      ],
      "metadata": {
        "id": "eb28zmNVW3n0"
      },
      "execution_count": 1,
      "outputs": []
    },
    {
      "cell_type": "code",
      "source": [
        "# Carga datos de tomas y actores\n",
        "planificacion = {'1': [1, 1, 1, 1, 1, 0, 0, 0, 0, 0],\n",
        "                 '2': [0, 0, 1, 1, 1, 0, 0, 0, 0, 0],\n",
        "                 '3': [0, 1, 0, 0, 1, 0, 1, 0, 0, 0],\n",
        "                 '4': [1, 1, 0, 0, 0, 0, 1, 1, 0, 0],\n",
        "                 '5': [0, 1, 0, 1, 0, 0, 0, 1, 0, 0],\n",
        "                 '6': [1, 1, 0, 1, 1, 0, 0, 0, 0, 0],\n",
        "                 '7': [1, 1, 0, 1, 1, 0, 0, 0, 0, 0],\n",
        "                 '8': [1, 1, 0, 0, 0, 1, 0, 0, 0, 0],\n",
        "                 '9': [1, 1, 0, 1, 0, 0, 0, 0, 0, 0],\n",
        "                 '10': [1, 1, 0, 0, 0, 1, 0, 0, 1, 0],\n",
        "                 '11': [1, 1, 1, 0, 1, 0, 0, 1, 0, 0],\n",
        "                 '12': [1, 1, 1, 1, 0, 1, 0, 0, 0, 0],\n",
        "                 '13': [1, 0, 0, 1, 1, 0, 0, 0, 0, 0],\n",
        "                 '14': [1, 0, 1, 0, 0, 1, 0, 0, 0, 0],\n",
        "                 '15': [1, 1, 0, 0, 0, 0, 1, 0, 0, 0],\n",
        "                 '16': [0, 0, 0, 1, 0, 0, 0, 0, 0, 1],\n",
        "                 '17': [1, 0, 1, 0, 0, 0, 0, 0, 0, 0],\n",
        "                 '18': [0, 0, 1, 0, 0, 1, 0, 0, 0, 0],\n",
        "                 '19': [1, 0, 1, 0, 0, 0, 0, 0, 0, 0],\n",
        "                 '20': [1, 0, 1, 1, 1, 0, 0, 0, 0, 0],\n",
        "                 '21': [0, 0, 0, 0, 0, 1, 0, 1, 0, 0],\n",
        "                 '22': [1, 1, 1, 1, 0, 0, 0, 0, 0, 0],\n",
        "                 '23': [1, 0, 1, 0, 0, 0, 0, 0, 0, 0],\n",
        "                 '24': [0, 0, 1, 0, 0, 1, 0, 0, 0, 0],\n",
        "                 '25': [1, 1, 0, 1, 0, 0, 0, 0, 0, 1],\n",
        "                 '26': [1, 0, 1, 0, 1, 0, 0, 0, 1, 0],\n",
        "                 '27': [0, 0, 0, 1, 1, 0, 0, 0, 0, 0],\n",
        "                 '28': [1, 0, 0, 1, 0, 0, 0, 0, 0, 0],\n",
        "                 '29': [1, 0, 0, 0, 1, 1, 0, 0, 0, 0],\n",
        "                 '30': [1, 0, 0, 1, 0, 0, 0, 0, 0, 0]}\n",
        "\n",
        "# Transformación del formato de los actores para tener, para cada toma, el identificador del actor en lugar de una tabla binaria\n",
        "for k in planificacion:\n",
        "  lista = []\n",
        "  for numero, actor in enumerate(planificacion[k]):\n",
        "    if actor == 1:\n",
        "      lista.append(numero+1)\n",
        "  planificacion[k] = lista\n",
        "\n",
        "print(planificacion)"
      ],
      "metadata": {
        "id": "jN5D01n_bBJ6",
        "colab": {
          "base_uri": "https://localhost:8080/"
        },
        "outputId": "fcf94019-1cbc-4398-ec62-e401eb948310"
      },
      "execution_count": 2,
      "outputs": [
        {
          "output_type": "stream",
          "name": "stdout",
          "text": [
            "{'1': [1, 2, 3, 4, 5], '2': [3, 4, 5], '3': [2, 5, 7], '4': [1, 2, 7, 8], '5': [2, 4, 8], '6': [1, 2, 4, 5], '7': [1, 2, 4, 5], '8': [1, 2, 6], '9': [1, 2, 4], '10': [1, 2, 6, 9], '11': [1, 2, 3, 5, 8], '12': [1, 2, 3, 4, 6], '13': [1, 4, 5], '14': [1, 3, 6], '15': [1, 2, 7], '16': [4, 10], '17': [1, 3], '18': [3, 6], '19': [1, 3], '20': [1, 3, 4, 5], '21': [6, 8], '22': [1, 2, 3, 4], '23': [1, 3], '24': [3, 6], '25': [1, 2, 4, 10], '26': [1, 3, 5, 9], '27': [4, 5], '28': [1, 4], '29': [1, 5, 6], '30': [1, 4]}\n"
          ]
        }
      ]
    },
    {
      "cell_type": "code",
      "metadata": {
        "id": "AiskKkzZfy4e"
      },
      "source": [
        "# Espacio de soluciones\n",
        "\n",
        "def genera_programacion_aleatoria(): # Genera una solución aleatoria de 5 días\n",
        "  programacion = [[]]\n",
        "  tomas_a_programar = list(range(1,31))\n",
        "\n",
        "  while len(tomas_a_programar) > 0:\n",
        "    for dia in programacion:\n",
        "      programado = False\n",
        "      if len(dia) < 6:\n",
        "        toma_programada = random.choice(tomas_a_programar)\n",
        "        dia.append(toma_programada)\n",
        "        tomas_a_programar.remove(toma_programada)\n",
        "        programado = True\n",
        "\n",
        "    if not programado:\n",
        "      programacion.append([])\n",
        "\n",
        "  return programacion"
      ],
      "execution_count": 3,
      "outputs": []
    },
    {
      "cell_type": "code",
      "source": [
        "def programa_actores(programacion, plan): # En base a una solución genera los actores necesarios para cada día\n",
        "  programacion_actores = []\n",
        "  for dia, tomas_dia in enumerate(programacion):\n",
        "    programacion_actores.append([])\n",
        "    for toma in tomas_dia:\n",
        "      for tomas_plan in plan[str(toma)]:\n",
        "        programacion_actores[dia].append(tomas_plan)\n",
        "\n",
        "  for dia in range(len(programacion_actores)):\n",
        "    programacion_actores[dia] = set(programacion_actores[dia])\n",
        "\n",
        "  return programacion_actores\n"
      ],
      "metadata": {
        "id": "5-BBK-M4X4wG"
      },
      "execution_count": 4,
      "outputs": []
    },
    {
      "cell_type": "code",
      "source": [
        "programacion_aleatoria = genera_programacion_aleatoria()\n",
        "\n",
        "prog_actores = programa_actores(programacion_aleatoria, planificacion)\n",
        "\n",
        "dia = 1\n",
        "for tomas, actores in zip(programacion_aleatoria, prog_actores):\n",
        "  print(f\"El día {dia} se programan las tomas {tomas}, por lo tanto se necesitan los actores {actores}\")\n",
        "  dia += 1"
      ],
      "metadata": {
        "colab": {
          "base_uri": "https://localhost:8080/"
        },
        "id": "O9muvI8ZZmLe",
        "outputId": "96928df5-278a-4edf-887a-5a7bc0fb007f"
      },
      "execution_count": 5,
      "outputs": [
        {
          "output_type": "stream",
          "name": "stdout",
          "text": [
            "El día 1 se programan las tomas [12, 3, 23, 8, 27, 22], por lo tanto se necesitan los actores {1, 2, 3, 4, 5, 6, 7}\n",
            "El día 2 se programan las tomas [10, 29, 2, 7, 11, 13], por lo tanto se necesitan los actores {1, 2, 3, 4, 5, 6, 8, 9}\n",
            "El día 3 se programan las tomas [26, 9, 6, 28, 15, 14], por lo tanto se necesitan los actores {1, 2, 3, 4, 5, 6, 7, 9}\n",
            "El día 4 se programan las tomas [19, 16, 24, 17, 30, 21], por lo tanto se necesitan los actores {1, 3, 4, 6, 8, 10}\n",
            "El día 5 se programan las tomas [20, 4, 1, 5, 18, 25], por lo tanto se necesitan los actores {1, 2, 3, 4, 5, 6, 7, 8, 10}\n"
          ]
        }
      ]
    },
    {
      "cell_type": "markdown",
      "source": [
        "**Función objetivo:**  \n",
        "La función objetivo a minimizar es el coste del desplazamiento de los actores al estudio de grabación. Definimos el coste de convocar a un actor al estudio de grabación con valor 1 por cada día que un actor deba desplazarse. Con esta definición, el coste a minimizar es el número de actores convocados cada día.  \n",
        "\n",
        "A continuación definimos la función coste y calculamos el coste de la solución aleatoria generada en el apartado anterior"
      ],
      "metadata": {
        "id": "Ts4aO8ERJRb2"
      }
    },
    {
      "cell_type": "code",
      "source": [
        "def coste(prog_actores): # En base a una programación de actores calcula el coste en unidades monetarias\n",
        "  coste = 0\n",
        "  for dia in prog_actores:\n",
        "    coste += len(dia)\n",
        "\n",
        "  return coste"
      ],
      "metadata": {
        "id": "7TrqLRc5J7oX"
      },
      "execution_count": 6,
      "outputs": []
    },
    {
      "cell_type": "code",
      "source": [
        "coste_prog_aleatoria = coste(prog_actores)\n",
        "print(f\"El coste de la programación aleatoria es de {coste_prog_aleatoria} unidades\")"
      ],
      "metadata": {
        "colab": {
          "base_uri": "https://localhost:8080/"
        },
        "id": "ZQOv9q4DKRGA",
        "outputId": "ea000481-4c95-45b4-de6d-923781c43c98"
      },
      "execution_count": 7,
      "outputs": [
        {
          "output_type": "stream",
          "name": "stdout",
          "text": [
            "El coste de la programación aleatoria es de 38 unidades\n"
          ]
        }
      ]
    },
    {
      "cell_type": "markdown",
      "source": [
        "**Restricciones:**  \n",
        "El enunciado del problema nos impone dos restricciones:\n",
        "1. No pueden programarse más de 6 tomas cada día.\n",
        "2. Deben programarse las 30 tomas.\n",
        "\n",
        "La primera restricción la implementamos en todas las funciones que generen soluciones o modificaciones de las soluciones, la longitud de la lista de soluciones programadas por día no puede ser superior a 6.  \n",
        "\n",
        "La segunda restricción la implementamos asegurando que las soluciones incluyen el total de las 30 tomas a programar. Más adelante se crea una función que comprueba la factibilidad de una programación asegurando éste hecho.\n",
        "\n",
        "Adicionalmente, el enunciado nos proporciona una tabla que condiciona los actores que deben desplazarse al estudio cada día en función de las tomas que están programadas ese día. Esta condición en realidad no impone ninguna restricción, solo influirá en el valor de la función objetivo."
      ],
      "metadata": {
        "id": "7XzsnOKvKpfN"
      }
    },
    {
      "cell_type": "markdown",
      "source": [
        "#Análisis\n",
        "- ¿Que complejidad tiene el problema?. Orden de complejidad y Contabilizar el espacio de soluciones"
      ],
      "metadata": {
        "id": "HZz52wOppp-U"
      }
    },
    {
      "cell_type": "markdown",
      "source": [
        "### Respuesta\n",
        "El espacio de soluciones completo incluye todas las posibles combinaciones de tomas programadas por día, teniendo en cuenta que se programan 6 tomas por día para un total de 5 días.  \n",
        "\n",
        "Para el cómputo del espacio de soluciones consideramos que si las tomas se programan en diferente orden dentro de un mismo día se consideran soluciones diferentes, aunque tengan el mismo valor de coste. Lo mismo ocurre si intercambiamos el orden de días. Siguiendo esta lógica el espacio de soluciones se contabiliza del siguiente modo:\n",
        "\n",
        "1. El 1r día hay 30 tomas a programar, de las cuales se programan 6. No se puede repetir pero el orden de las tomas importa, por lo tanto estamos ante un caso de variación sin repetición con fórmula: 30!/(30-6)! = 30!/24! = 30 * 29 * 28 * 27 * 26 * 25\n",
        "2. El 2o día quedan 24 tomas a programar. Aplicamos la misma función actualizada para las tomas restantes: 24!/(24-6)! = 24!/18! = 24 * 23 * 22 * 21 * 20 * 19\n",
        "\n",
        "Siguiendo este proceso hasta programar las 30 tomas el cómputo total de soluciones es:  \n",
        "30!/24! * 24!/18! * 18!/12! * 12!/6! * 6! = 30!\n",
        "\n",
        "Generalizando la solución, con las mismas restricciones, el orden de complejidad es factorial, O(n) = n!"
      ],
      "metadata": {
        "id": "bXufmtjQL6sy"
      }
    },
    {
      "cell_type": "code",
      "source": [
        "# A continuación se calcula el valor concreto de soluciones para n = 30 -> factorial de 30\n",
        "print(f\"El espacio de soluciones contiene {math.factorial(30)} soluciones!\")"
      ],
      "metadata": {
        "colab": {
          "base_uri": "https://localhost:8080/"
        },
        "id": "BXz02NIzeAnb",
        "outputId": "e7d0640f-0c2c-421f-8974-5dce4607eb3b"
      },
      "execution_count": 29,
      "outputs": [
        {
          "output_type": "stream",
          "name": "stdout",
          "text": [
            "El espacio de soluciones contiene 265252859812191058636308480000000 soluciones!\n"
          ]
        }
      ]
    },
    {
      "cell_type": "markdown",
      "source": [
        "#Diseño\n",
        "- ¿Que técnica utilizo? ¿Por qué?"
      ],
      "metadata": {
        "id": "ixEJUwH_pv7M"
      }
    },
    {
      "cell_type": "markdown",
      "source": [
        "### Propuesta 1: algoritmo hibrido\n",
        "\n",
        "En una primera aproximación utilizaremos una combinación de búsqueda local y multiarranque para mejorar una solución aleatoria inicial. El multi-arranque nos aporta diversificación al empezar en varios puntos diferentes, mientras que la búsqueda local nos aporta intensificación en estos puntos iniciales aleatorios. Como la búsqueda local encuentra soluciones bastante rápido  podemos hacer bastantes arranques para empezar en sitios diferente.  \n",
        "\n",
        "En una revisión del código, añadimos una componente de la búsqueda tabú: como la búsqueda local siempre encuentra la misma solución dada una solución inicial, restringimos las soluciones aleatorias iniciales a que no se repitan con las soluciones generadas anteriormente. De esta forma aseguramos que la generación aleatoria no nos lleva a invertir recursos en caminos ya explorados"
      ],
      "metadata": {
        "id": "ULgA7-DaA3DY"
      }
    },
    {
      "cell_type": "code",
      "source": [
        "# Propuesta 1: combinar multi-arranque con búsqueda local\n",
        "def genera_vecinos_2opt(programacion, plan): # Para una solución dada genera todas las posibles variaciones intercambiando dos tomas\n",
        "  mejor_solucion = programacion\n",
        "  prog_actores = programa_actores(programacion, plan)\n",
        "  mejor_coste = coste(prog_actores) # Usamos la programación actual como valor a comparar. Si la generada no es mejor que la actual no queremos cambiar\n",
        "\n",
        "  vecina = deepcopy(programacion)\n",
        "  for dia in range(len(programacion)-1):\n",
        "    for toma in range(len(programacion[dia])):\n",
        "      for toma_dia_cambio in range(len(programacion[dia])):\n",
        "\n",
        "        vecina[dia][toma] = programacion[dia+1][toma_dia_cambio]\n",
        "        vecina[dia+1][toma_dia_cambio] = programacion[dia][toma]\n",
        "\n",
        "        prog_actores_vec = programa_actores(vecina, plan)\n",
        "        coste_vec = coste(prog_actores_vec)\n",
        "\n",
        "        if coste_vec < mejor_coste:\n",
        "          mejor_solucion = vecina\n",
        "          mejor_coste = coste_vec\n",
        "\n",
        "        vecina = deepcopy(programacion)\n",
        "\n",
        "  return mejor_solucion\n",
        "\n",
        "# Generamos la función completa. Ésta genera una programación aleatoria inicial y aplica la función genera_vecinos_2opt\n",
        "# hasta que no somos capaces de mejorar la solución.\n",
        "# No permite que se repitan programaciones aleatorias iniciales.\n",
        "def multiarranque_busq_local(plan, intentos):\n",
        "  mejor_sol_global = []\n",
        "  mejor_coste_global = float('inf')\n",
        "  sol_ya_intentadas = []\n",
        "\n",
        "  for _ in range(intentos):\n",
        "    parada = False\n",
        "\n",
        "    sol_propuesta = genera_programacion_aleatoria()\n",
        "\n",
        "    while sol_propuesta in sol_ya_intentadas:\n",
        "      sol_propuesta = genera_programacion_aleatoria()\n",
        "\n",
        "    mejor_sol_local = sol_propuesta\n",
        "    mejor_coste_local = float('inf')\n",
        "    sol_ya_intentadas.append(sol_propuesta)\n",
        "\n",
        "    while parada == False:\n",
        "      sol_busq_local = genera_vecinos_2opt(mejor_sol_local, plan)\n",
        "      prog_actores_busq_local = programa_actores(sol_busq_local, plan)\n",
        "      coste_sol_busq_local = coste(prog_actores_busq_local)\n",
        "\n",
        "      if coste_sol_busq_local < mejor_coste_local:\n",
        "        mejor_sol_local = sol_busq_local\n",
        "        mejor_coste_local = coste_sol_busq_local\n",
        "\n",
        "      else:\n",
        "        parada = True\n",
        "\n",
        "    if mejor_coste_local < mejor_coste_global:\n",
        "      mejor_sol_global = mejor_sol_local\n",
        "      mejor_coste_global = mejor_coste_local\n",
        "\n",
        "  return mejor_sol_global"
      ],
      "metadata": {
        "id": "ZdKPjB9gp2BA"
      },
      "execution_count": null,
      "outputs": []
    },
    {
      "cell_type": "code",
      "source": [
        "print(f\"Programación aleatoria: {programacion_aleatoria}\")\n",
        "print(f\"Coste programación aleatoria: {coste_prog_aleatoria}\")\n",
        "\n",
        "sol_multi_busq_local = multiarranque_busq_local(planificacion, intentos=500)\n",
        "print(f\"Programación multiarranque con búsqueda local : {sol_multi_busq_local}\")\n",
        "\n",
        "prog_actores_multi_busq_local = programa_actores(sol_multi_busq_local, planificacion)\n",
        "coste_multi_busq_local = coste(prog_actores_multi_busq_local)\n",
        "\n",
        "print(f\"Coste de la programación multiarranque con búsqueda local : {coste_multi_busq_local}\")\n",
        "\n",
        "# Habiendo lanzado varias ejecuciones, con 500 intentos vemos que la mejor solución a\n",
        "# la que podemos llegar con esta heurística está en el entorno de 29 unidades de coste"
      ],
      "metadata": {
        "colab": {
          "base_uri": "https://localhost:8080/"
        },
        "id": "jR_FkZ3FkGAB",
        "outputId": "ae9495bd-ea16-4d71-c539-10c7308f4354"
      },
      "execution_count": null,
      "outputs": [
        {
          "output_type": "stream",
          "name": "stdout",
          "text": [
            "Programación aleatoria: [[18, 20, 14, 3, 29, 11], [30, 22, 21, 25, 26, 13], [5, 27, 8, 19, 28, 10], [16, 12, 4, 7, 2, 24], [9, 17, 1, 23, 6, 15]]\n",
            "Coste programación aleatoria: 40\n",
            "Programación multiarranque con búsqueda local : [[20, 26, 2, 13, 30, 27], [24, 14, 21, 19, 29, 17], [4, 5, 1, 11, 23, 15], [10, 22, 8, 18, 28, 12], [6, 16, 7, 9, 25, 3]]\n",
            "Coste de la programación multiarranque con búsqueda local : 29\n"
          ]
        }
      ]
    },
    {
      "cell_type": "code",
      "source": [
        "# Como sabemos que no podemos repetir caminos ya explorados y el tiempo de ejecucion\n",
        "# con el hardware de Colab no es grande lanzamos una ejecución con 2000 intentos para\n",
        "# obtener una solución bastante buena con esta heurística\n",
        "\n",
        "sol_multi_busq_local = multiarranque_busq_local(planificacion, intentos=2000)\n",
        "print(sol_multi_busq_local)\n",
        "\n",
        "prog_actores_multi_busq_local = programa_actores(sol_multi_busq_local, planificacion)\n",
        "coste_multi_busq_local = coste(prog_actores_multi_busq_local)\n",
        "\n",
        "print(coste_multi_busq_local)\n",
        "\n",
        "# El tiempo de ejecución ha sido de 1 minuto"
      ],
      "metadata": {
        "colab": {
          "base_uri": "https://localhost:8080/"
        },
        "id": "B2gj-Y88Gj9R",
        "outputId": "6b99f333-d2a1-496f-8a69-05c57993ba12"
      },
      "execution_count": null,
      "outputs": [
        {
          "output_type": "stream",
          "name": "stdout",
          "text": [
            "[[10, 6, 8, 12, 9, 26], [1, 7, 16, 20, 2, 25], [23, 24, 18, 19, 14, 17], [27, 29, 28, 13, 30, 21], [5, 22, 15, 11, 3, 4]]\n",
            "28\n"
          ]
        }
      ]
    },
    {
      "cell_type": "markdown",
      "source": [
        "### Propuesta 2: algoritmo genético\n",
        "\n",
        "A continuación programamos un algoritmo genético para resolver la misma instancia del problema de programación de actores. El objetivo es que mediante la mayor complejidad de los algoritmos genéticos y su equilibrio entre intensifiación y diversificación consigamos una mejor solución que el algoritmo anterior."
      ],
      "metadata": {
        "id": "Fipd-UHlcLBM"
      }
    },
    {
      "cell_type": "code",
      "source": [
        "# Definimos la función de generar una población de N indivíduos\n",
        "# Reaprovechamos la función genera_programacion_aleatoria del apartado anterior\n",
        "def Generar_Poblacion(N):\n",
        "  poblacion = []\n",
        "  for _ in range(N):\n",
        "    poblacion.append(genera_programacion_aleatoria())\n",
        "  return poblacion"
      ],
      "metadata": {
        "id": "3vaRG5otnLTA"
      },
      "execution_count": 8,
      "outputs": []
    },
    {
      "cell_type": "code",
      "source": [
        "def Evaluar_Programacion(programa, plan): # Evaluamos la mejor programación de la población\n",
        "  prog_actores = programa_actores(programa, plan)\n",
        "  c = coste(prog_actores)\n",
        "  return c"
      ],
      "metadata": {
        "id": "fxJ87srux9y8"
      },
      "execution_count": 9,
      "outputs": []
    },
    {
      "cell_type": "code",
      "source": [
        "def Evaluar_Mejor_Programacion(poblacion, plan): # Evaluamos la mejor programación de la población\n",
        "  mejor_programacion = []\n",
        "  mejor_coste = float('inf')\n",
        "  for programa in poblacion:\n",
        "    c = Evaluar_Programacion(programa, plan)\n",
        "    if c < mejor_coste:\n",
        "      mejor_programacion = programa\n",
        "      mejor_coste = c\n",
        "\n",
        "  return mejor_programacion"
      ],
      "metadata": {
        "id": "Rx09J2sgnNXW"
      },
      "execution_count": 10,
      "outputs": []
    },
    {
      "cell_type": "code",
      "source": [
        "def Factible(programa): # Función para asegurar que una programación es factible\n",
        "  lista = []\n",
        "  for dia in range(len(programa)):\n",
        "    lista += programa[dia]\n",
        "  return len(set(lista)) == 30"
      ],
      "metadata": {
        "id": "IfOG2vjWnSie"
      },
      "execution_count": 11,
      "outputs": []
    },
    {
      "cell_type": "code",
      "source": [
        "# Función para generar 2 hijos en base a 2 programaciones existentes.\n",
        "# Se recombinan los alelos de cada padre aleatoriamente entre los hijos\n",
        "# Llama a la función \"factible\" para asegurar que los hijos sean válidos\n",
        "# FUNCIÓN NO VÁLIDA PORQUÉ REQUIERE UN TIEMPO DEMASIADO ALTO PARA GENERAR 2 HIJOS FACTIBLES CON ESTE NIVEL DE ALEATORIEDAD\n",
        "\n",
        "def Genera_Hijos(programa1, programa2):\n",
        "  parar = False\n",
        "  while parar == False:\n",
        "    hijo1_temp = []\n",
        "    hijo2_temp = []\n",
        "    hijo1 = []\n",
        "    hijo2 = []\n",
        "    for dia_n in range(len(programa1)):\n",
        "      for toma_n in range(len(programa1[dia_n])):\n",
        "        p = random.random()\n",
        "        if p < 0.5:\n",
        "          hijo1_temp.append(programa1[dia_n][toma_n])\n",
        "          hijo2_temp.append(programa2[dia_n][toma_n])\n",
        "        else:\n",
        "          hijo1_temp.append(programa2[dia_n][toma_n])\n",
        "          hijo2_temp.append(programa1[dia_n][toma_n])\n",
        "    for i in [0,6,12,18,24]: # La función anterior genera una lista de 30 tomas. Las agrupamos en 5 días\n",
        "      hijo1.append(hijo1_temp[i:i+6])\n",
        "      hijo2.append(hijo1_temp[i:i+6])\n",
        "    parar = Factible(hijo1) and Factible(hijo2)\n",
        "\n",
        "  return [hijo1, hijo2]"
      ],
      "metadata": {
        "id": "EhQcESVInUlo"
      },
      "execution_count": 12,
      "outputs": []
    },
    {
      "cell_type": "code",
      "source": [
        "# Función más simple que la anterior y más rápida de ejecutar\n",
        "# Función para generar 2 hijos en base a 2 programaciones existentes.\n",
        "# Se hace una partición por un día aleatoriamente (de los 5 días que tienen todas las programaciones)\n",
        "# y se combinan padre y madre. Llama a la función \"factible\" para asegurar que los hijos sean válidos\n",
        "\n",
        "def Genera_Hijos(programa1, programa2):\n",
        "  parar = False\n",
        "  while parar == False:\n",
        "    particion = random.randint(0,5)\n",
        "    hijo1 = programa1[0:particion] + programa2[particion:5]\n",
        "    hijo2 = programa2[0:particion] + programa1[particion:5]\n",
        "    parar = Factible(hijo1) and Factible(hijo2) # Paramos cuando ambos hijos son factibles\n",
        "\n",
        "  return [hijo1, hijo2]"
      ],
      "metadata": {
        "id": "9VA7r0mm545p"
      },
      "execution_count": 13,
      "outputs": []
    },
    {
      "cell_type": "code",
      "source": [
        "# Función de mutación de una programación. Escoge aleatoriamente 2 alelos y los intercambia\n",
        "# Llama a la función Factible para asegurar que la programación es válida\n",
        "def Mutar(programacion):\n",
        "  parar = False\n",
        "  while parar == False:\n",
        "    programacion_mutada = deepcopy(programacion)\n",
        "    gen1 = [random.randint(0,4), random.randint(0,5)]\n",
        "    gen2 = [random.randint(0,4), random.randint(0,5)]\n",
        "    programacion_mutada[gen1[0]][gen1[1]] = programacion[gen2[0]][gen2[1]]\n",
        "    programacion_mutada[gen2[0]][gen2[1]] = programacion[gen1[0]][gen1[1]]\n",
        "    parar = Factible(programacion_mutada) # Paramos cuando la mutación ha generado una programación factible\n",
        "\n",
        "  return programacion_mutada"
      ],
      "metadata": {
        "id": "KvLcUT9FnXkD"
      },
      "execution_count": 14,
      "outputs": []
    },
    {
      "cell_type": "code",
      "source": [
        "# Recibe una población y una planificación de tomas y genera una población extendida con hijos\n",
        "# Se duplica la población mediante la función Genera_Hijos escogiendo a los padres según su fitness\n",
        "# Se mutan el 50% de los hijos aleatoriamente\n",
        "# Se selecciona la población hasta dejarla en la dimensión inicial. El percentil superior 25% se selecciona directamente\n",
        "# El percentil 25% siguiente se selecciona por selección ponderada por la inversa del coste\n",
        "# El percentil inferior 50% se descarta para mantener el tamaño de población constante\n",
        "def Cruzar_Seleccionar(poblacion, plan):\n",
        "  nueva_poblacion = deepcopy(poblacion)\n",
        "  for _ in range(len(poblacion)//2):\n",
        "    poblacion_copy = deepcopy(poblacion)\n",
        "    madre = random.choice(poblacion_copy) # Escogemos madre aleatoriamente\n",
        "    poblacion_copy.remove(madre)\n",
        "    padre = random.choice(poblacion_copy) # Escogemos padre aleatoriamente\n",
        "    hijos_generados = Genera_Hijos(madre, padre) #Generamos 2 hijos\n",
        "\n",
        "    for i in range(1):\n",
        "      if random.random() > 0.5:\n",
        "        hijos_generados[i] = Mutar(hijos_generados[i]) # Mutamos hijo el 50% de las veces\n",
        "\n",
        "    nueva_poblacion.append(hijos_generados[0])\n",
        "    nueva_poblacion.append(hijos_generados[1])\n",
        "\n",
        "  costes_inv = []\n",
        "  lista_programaciones = []\n",
        "  for programa in nueva_poblacion:\n",
        "    cost = Evaluar_Programacion(programa, plan)\n",
        "    lista_programaciones.append([cost, programa])\n",
        "    costes_inv.append(1/cost)\n",
        "  lista_programaciones.sort(key=lambda l: l[0])\n",
        "  costes_inv.sort(reverse=True)\n",
        "\n",
        "  nueva_poblacion_final = []\n",
        "  for _ in range(len(poblacion)//2): # Añadimos el top 25% de la nueva población ampliada a la poblacion final (elitismo)\n",
        "    nueva_poblacion_final.append(lista_programaciones[0][1])\n",
        "    lista_programaciones = lista_programaciones[1:]\n",
        "    costes_inv = costes_inv[1:]\n",
        "\n",
        "  for _ in range(len(poblacion)//2): # Añadimos el siguiente 25% por selección ponderada por la inversa del coste\n",
        "    programa_escogido = random.choices(lista_programaciones, weights=costes_inv)\n",
        "    nueva_poblacion_final.append(programa_escogido[0][1])\n",
        "    lista_programaciones.remove(programa_escogido[0])\n",
        "    costes_inv.remove(1/programa_escogido[0][0])\n",
        "\n",
        "  return nueva_poblacion_final"
      ],
      "metadata": {
        "id": "MlKoKXw1HMoo"
      },
      "execution_count": 15,
      "outputs": []
    },
    {
      "cell_type": "code",
      "source": [
        "def Algoritmo_Genetico(plan, N, generaciones):\n",
        "  poblacion = Generar_Poblacion(N)\n",
        "\n",
        "  for _ in range(generaciones):\n",
        "    poblacion = Cruzar_Seleccionar(poblacion, plan)\n",
        "\n",
        "  programacion_final = Evaluar_Mejor_Programacion(poblacion, plan)\n",
        "  c = Evaluar_Programacion(programacion_final, plan)\n",
        "  return c, programacion_final"
      ],
      "metadata": {
        "id": "eluht3FniPRf"
      },
      "execution_count": 16,
      "outputs": []
    },
    {
      "cell_type": "code",
      "source": [
        "# Lanzamiento del algoritmo con una población \"pequeña\" y pocas generaciones para una ejecución rápida\n",
        "%time c, programa = Algoritmo_Genetico(planificacion, N=100, generaciones=100)\n",
        "print(f\"La mejor programacion tiene un coste de {c} unidades\")\n",
        "print(f\"¿Se han programado todas las tomas? {Factible(programa)}\")\n",
        "print(\"La mejor programación consiste en:\")\n",
        "for i in range(len(programa)):\n",
        "  print(f\"Tomas dia {i+1}: {programa[i]}\")\n",
        "# Obtenemos un resultado bastante bueno con un coste de 30 unidades"
      ],
      "metadata": {
        "colab": {
          "base_uri": "https://localhost:8080/"
        },
        "id": "lM2hOOiKEeLl",
        "outputId": "36518662-1b65-449d-e1fa-f0a970d78abd"
      },
      "execution_count": 26,
      "outputs": [
        {
          "output_type": "stream",
          "name": "stdout",
          "text": [
            "CPU times: user 12.6 s, sys: 32.5 ms, total: 12.7 s\n",
            "Wall time: 12.8 s\n",
            "La mejor programacion tiene un coste de 31 unidades\n",
            "¿Se han programado todas las tomas? True\n",
            "La mejor programación consiste en:\n",
            "Tomas dia 1: [7, 18, 10, 2, 14, 26]\n",
            "Tomas dia 2: [16, 27, 23, 25, 1, 13]\n",
            "Tomas dia 3: [5, 9, 28, 22, 17, 30]\n",
            "Tomas dia 4: [29, 19, 6, 20, 12, 24]\n",
            "Tomas dia 5: [15, 21, 11, 4, 3, 8]\n"
          ]
        }
      ]
    },
    {
      "cell_type": "code",
      "source": [
        "# Lanzamiento del algoritmo con una población \"grande\" y bastantes generaciones para una ejecución más cercana al óptimo\n",
        "%time c, programa = Algoritmo_Genetico(planificacion, N=400, generaciones=200)\n",
        "print(f\"La mejor programacion tiene un coste de {c} unidades\")\n",
        "print(f\"¿Se han programado todas las tomas? {Factible(programa)}\")\n",
        "print(\"La mejor programación consiste en:\")\n",
        "for i in range(len(programa)):\n",
        "  print(f\"Tomas dia {i+1}: {programa[i]}\")"
      ],
      "metadata": {
        "id": "2B9TMpzNFdI8",
        "colab": {
          "base_uri": "https://localhost:8080/"
        },
        "outputId": "f8617ab2-04ee-4bd1-dd9d-82a93d9a06c9"
      },
      "execution_count": 32,
      "outputs": [
        {
          "output_type": "stream",
          "name": "stdout",
          "text": [
            "CPU times: user 8min 15s, sys: 1.4 s, total: 8min 17s\n",
            "Wall time: 8min 21s\n",
            "La mejor programacion tiene un coste de 28 unidades\n",
            "¿Se han programado todas las tomas? True\n",
            "La mejor programación consiste en:\n",
            "Tomas dia 1: [23, 12, 24, 8, 18, 19]\n",
            "Tomas dia 2: [15, 25, 16, 4, 30, 5]\n",
            "Tomas dia 3: [28, 9, 7, 6, 27, 13]\n",
            "Tomas dia 4: [11, 10, 29, 26, 14, 21]\n",
            "Tomas dia 5: [2, 3, 17, 22, 20, 1]\n"
          ]
        }
      ]
    },
    {
      "cell_type": "markdown",
      "source": [
        "### Conclusión:\n",
        "Con una ejecución larga del algoritmo genético sólo conseguimos resultados de una calidad igual a la del algoritmo híbrido de la propuesta 1. Para mejorar este resultado se podrían modificar las funciones de cruce y/o mutación para experimentar con otros métodos. También se podría incrementar el tamaño de la población o las generaciones a costa de incrementar el tiempo de ejecución."
      ],
      "metadata": {
        "id": "8rYkBeazUMVN"
      }
    }
  ]
}